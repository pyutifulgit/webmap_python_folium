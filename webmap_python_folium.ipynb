{
 "cells": [
  {
   "cell_type": "code",
   "execution_count": 3,
   "metadata": {},
   "outputs": [],
   "source": [
    "# !pip3 install folium"
   ]
  },
  {
   "cell_type": "markdown",
   "metadata": {},
   "source": [
    "## Learning the basics"
   ]
  },
  {
   "cell_type": "code",
   "execution_count": 75,
   "metadata": {
    "scrolled": true
   },
   "outputs": [],
   "source": [
    "# create a map object\n",
    "map = folium.Map(location = [38.58, -99.09]\n",
    "                 ,zoom_start=10)\n",
    "\n",
    "\n",
    "# add pointer to the feature group\n",
    "map = folium.Map(location = [38.58, -99.09]\n",
    "                 , zoom_start=12\n",
    "                 , tiles =\"OpenStreetMap\")\n",
    "\n",
    "# create a greaturegroup\n",
    "fg = folium.FeatureGroup(name = \"My Feats\")\n",
    "\n",
    "# add elements to map object\n",
    "fg.add_child(folium.Marker(location=[38.58, -99.09]\n",
    "                           ,popup=\"I'm Here, but you can move me\"\n",
    "                           ,icon=folium.Icon(color=\"red\")\n",
    "                           ,draggable=True))\n",
    "\n",
    "# add the feature group to the original map object\n",
    "map.add_child(fg)\n",
    "\n",
    "# display the map or save it\n",
    "map.save(\"myHome.html\")"
   ]
  },
  {
   "cell_type": "code",
   "execution_count": 76,
   "metadata": {
    "scrolled": true
   },
   "outputs": [],
   "source": [
    "# add mulitple child using for loop\n",
    "for coordinates in [[38.51, -99],[38.48, -99.19]]:\n",
    "    fg.add_child(folium.Marker(location=coordinates\n",
    "                              ,popup=\"Some New Coordinates\"\n",
    "                              ,icon=folium.Icon(color=\"green\")))\n",
    "\n",
    "    \n",
    "map.add_child(fg)\n",
    "map.save(\"myHome.html\")\n"
   ]
  },
  {
   "cell_type": "markdown",
   "metadata": {},
   "source": [
    "## Map App"
   ]
  },
  {
   "cell_type": "code",
   "execution_count": 78,
   "metadata": {},
   "outputs": [],
   "source": [
    "import folium\n",
    "import pandas\n",
    "\n",
    "data = pandas.read_csv(\"Volcanoes_USA.txt\")\n",
    "lat = list(data[\"LAT\"])\n",
    "lon = list(data[\"LON\"])\n",
    "elev = list(data[\"ELEV\"])\n",
    "\n",
    "def color_producer(elevation):\n",
    "    if elevation < 1000:\n",
    "        return 'green'\n",
    "    elif 1000 <= elevation < 3000:\n",
    "        return 'orange'\n",
    "    else:\n",
    "        return 'red'\n",
    "map = folium.Map(location=[38.58, -99.09], zoom_start=6, tiles=\"cartodb positron\")\n",
    "\n",
    "fgv = folium.FeatureGroup(name=\"Volcanoes\")\n",
    "\n",
    "for lt, ln, el in zip(lat, lon, elev):\n",
    "    fgv.add_child(folium.CircleMarker(location=[lt, ln]\n",
    "                                      ,radius = 6\n",
    "                                      ,popup=str(el)+\" m\"\n",
    "                                      ,fill_color=color_producer(el)\n",
    "                                      ,fill=True\n",
    "                                      ,color = 'grey'\n",
    "                                      ,fill_opacity=0.7))\n",
    "\n",
    "fgp = folium.FeatureGroup(name=\"Population\")\n",
    "\n",
    "fgp.add_child(folium.GeoJson(data=open('world.json'\n",
    "                                       ,'r'\n",
    "                                       ,encoding='utf-8-sig').read()\n",
    "                             ,style_function=lambda x: {'fillColor':'green' \n",
    "                                                        if x['properties']['POP2005'] < 10000000 \n",
    "                                                        else 'orange' \n",
    "                                                        if 10000000 <= x['properties']['POP2005'] < 20000000 \n",
    "                                                        else 'red'}))\n",
    "\n",
    "map.add_child(fgp)\n",
    "map.add_child(fgv)\n",
    "map.add_child(folium.LayerControl())\n",
    "\n",
    "map.save(\"Map1.html\")"
   ]
  },
  {
   "cell_type": "code",
   "execution_count": null,
   "metadata": {},
   "outputs": [],
   "source": []
  },
  {
   "cell_type": "code",
   "execution_count": 16,
   "metadata": {},
   "outputs": [],
   "source": []
  },
  {
   "cell_type": "code",
   "execution_count": null,
   "metadata": {},
   "outputs": [],
   "source": []
  }
 ],
 "metadata": {
  "kernelspec": {
   "display_name": "Python 3",
   "language": "python",
   "name": "python3"
  },
  "language_info": {
   "codemirror_mode": {
    "name": "ipython",
    "version": 3
   },
   "file_extension": ".py",
   "mimetype": "text/x-python",
   "name": "python",
   "nbconvert_exporter": "python",
   "pygments_lexer": "ipython3",
   "version": "3.8.5"
  }
 },
 "nbformat": 4,
 "nbformat_minor": 4
}
